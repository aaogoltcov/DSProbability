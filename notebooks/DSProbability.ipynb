{
 "cells": [
  {
   "cell_type": "code",
   "execution_count": 38,
   "metadata": {},
   "outputs": [],
   "source": [
    "# Смоделировать игру против лотерейного автомата типа “777”. Игрок платит 1 руб., \n",
    "# после чего выпадает случайное целое число, равномерно распределенное от 0 до 999. \n",
    "# При некоторых значениях числа игрок получает выигрыш (см. справа)\n",
    "\n",
    "# Выгодна ли игра игроку?\n",
    "\n",
    "# Сколько в среднем приобретает\n",
    "# или теряет игрок за одну игру?\n",
    "\n",
    "# 777: 200 руб.\n",
    "# 999: 100 руб.\n",
    "# 555: 50 руб.\n",
    "# 333: 15 руб.\n",
    "# 111: 10 руб.\n",
    "# *77: 5 руб.\n",
    "# **7: 3 руб.\n",
    "# *00: 2 руб.\n",
    "# **0: 1 руб.\n",
    "\n",
    "# – любая цифра\n",
    "# Дополнительное задание повышенной сложности. \n",
    "# Теоретически рассчитать средний выигрыш (проигрыш) и сравнить с результатами моделирования"
   ]
  },
  {
   "cell_type": "code",
   "execution_count": 39,
   "metadata": {},
   "outputs": [],
   "source": [
    "import numpy as np\n",
    "import regex as re"
   ]
  },
  {
   "cell_type": "code",
   "execution_count": 40,
   "metadata": {},
   "outputs": [],
   "source": [
    "PATTERNS = [\n",
    "    [r\"\\b777\\b\", 200],\n",
    "    [r\"\\b999\\b\", 100],\n",
    "    [r\"\\b555\\b\", 50],\n",
    "    [r\"\\b333\\b\", 15],\n",
    "    [r\"\\b111\\b\", 10],\n",
    "    [r\"\\b[0-6,8-9]?77\\b\", 5],\n",
    "    [r\"\\b[1-6,8-9]?7\\b\", 3],\n",
    "    [r\"\\b\\d0{2}\\b\", 2],\n",
    "    [r\"\\b[1-9]{0,2}0{1}\\b\", 1],\n",
    "]"
   ]
  },
  {
   "cell_type": "code",
   "execution_count": 41,
   "metadata": {},
   "outputs": [
    {
     "name": "stdout",
     "output_type": "stream",
     "text": [
      "Теоретическая вероятность:  0.12\n",
      "Потери:  444\n",
      "Среднее количество потерь за одну игру (с учетом выигрыша):  0.44\n",
      "Выигрыш:  556\n",
      "Среднее количество выгрыша за одну игру (без учета потерь):  0.56\n"
     ]
    }
   ],
   "source": [
    "def get_theoretical_probability(min, max, patterns):\n",
    "    possible_cases = 0\n",
    "    all_cases = max - min\n",
    "    costs = 0\n",
    "    wins = 0\n",
    "    for number in range(min, max + 1):\n",
    "        costs += 1\n",
    "        for pattern in patterns:\n",
    "            if re.search(pattern[0], str(number)):\n",
    "                possible_cases += 1\n",
    "                wins += pattern[1]\n",
    "                break\n",
    "    print('Теоретическая вероятность: ', round(possible_cases / all_cases, 2))\n",
    "    print('Потери: ', (costs - wins))\n",
    "    print('Среднее количество потерь за одну игру (с учетом выигрыша): ', round((costs - wins) / max, 2))\n",
    "    print('Выигрыш: ', wins)\n",
    "    print('Среднее количество выгрыша за одну игру (без учета потерь): ', round(wins / max, 2))\n",
    "        \n",
    "get_theoretical_probability(0, 999, PATTERNS)"
   ]
  },
  {
   "cell_type": "code",
   "execution_count": 42,
   "metadata": {},
   "outputs": [
    {
     "name": "stdout",
     "output_type": "stream",
     "text": [
      "Теоретическая вероятность:  0.12\n",
      "Потери:  4418\n",
      "Среднее количество потерь за одну игру (с учетом выигрыша):  4.42\n",
      "Выигрыш:  5582\n",
      "Среднее количество выгрыша за одну игру (без учета потерь):  5.59\n"
     ]
    }
   ],
   "source": [
    "def get_monte_carlo_probability(min, max, range_number, patterns):\n",
    "    success_cases = 0\n",
    "    costs = 0\n",
    "    wins = 0\n",
    "    for iteration in range(range_number):\n",
    "        costs += 1\n",
    "        random_number = np.random.randint(min, max + 1)\n",
    "        for pattern in patterns:\n",
    "            if re.search(pattern[0], str(random_number)):\n",
    "                success_cases += 1\n",
    "                wins += pattern[1]\n",
    "                break\n",
    "    print('Теоретическая вероятность: ', round(success_cases / range_number, 2))\n",
    "    print('Потери: ', (costs - wins))\n",
    "    print('Среднее количество потерь за одну игру (с учетом выигрыша): ', round((costs - wins) / max, 2))\n",
    "    print('Выигрыш: ', wins)\n",
    "    print('Среднее количество выгрыша за одну игру (без учета потерь): ', round(wins / max, 2))\n",
    "    \n",
    "get_monte_carlo_probability(0, 999, 10000, PATTERNS)"
   ]
  }
 ],
 "metadata": {
  "kernelspec": {
   "display_name": "Python 3",
   "language": "python",
   "name": "python3"
  },
  "language_info": {
   "codemirror_mode": {
    "name": "ipython",
    "version": 3
   },
   "file_extension": ".py",
   "mimetype": "text/x-python",
   "name": "python",
   "nbconvert_exporter": "python",
   "pygments_lexer": "ipython3",
   "version": "3.8.5"
  }
 },
 "nbformat": 4,
 "nbformat_minor": 2
}
